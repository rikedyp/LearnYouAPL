{
 "cells": [
  {
   "cell_type": "markdown",
   "metadata": {},
   "source": [
    "# Starting Out\n",
    "### Ready, set, go!\n",
    "<!--- (![Starting Out](../img/startingout.png \"Starting Out\")) -->\n",
    "Alright, let's get started. This notebook should render fairly well on GitHub or using Jupyter's [nbviewer](https://nbviewer.jupyter.org/), but it's more fun to have an interactive experience by either [setting up Jupyter notebooks with the Dyalog kernel]() or pasting this notebook's URL into [TryAPL.org]() on the \"Learn\" tab.  "
   ]
  },
  {
   "cell_type": "markdown",
   "metadata": {},
   "source": [
    "APL can be used like a pocket calculator. Here's some simple arithmetic:"
   ]
  },
  {
   "cell_type": "code",
   "execution_count": 2,
   "metadata": {},
   "outputs": [
    {
     "data": {
      "text/html": [
       "<span style=\"white-space:pre; font-family: monospace\">17\n",
       "</span>"
      ]
     },
     "execution_count": 2,
     "metadata": {},
     "output_type": "execute_result"
    },
    {
     "data": {
      "text/html": [
       "<span style=\"white-space:pre; font-family: monospace\">4900\n",
       "</span>"
      ]
     },
     "execution_count": 2,
     "metadata": {},
     "output_type": "execute_result"
    },
    {
     "data": {
      "text/html": [
       "<span style=\"white-space:pre; font-family: monospace\">420\n",
       "</span>"
      ]
     },
     "execution_count": 2,
     "metadata": {},
     "output_type": "execute_result"
    },
    {
     "data": {
      "text/html": [
       "<span style=\"white-space:pre; font-family: monospace\">2.5\n",
       "</span>"
      ]
     },
     "execution_count": 2,
     "metadata": {},
     "output_type": "execute_result"
    }
   ],
   "source": [
    "2 + 15\n",
    "49 × 100\n",
    "1892 - 1472\n",
    "5 ÷ 2"
   ]
  },
  {
   "cell_type": "markdown",
   "metadata": {},
   "source": [
    "Woah okay... hold up! I bet you can type [+] and [-] with ease, but how do you get [×] and [÷]? Sure, you recognise them as \"times\" and \"divide\" just like back in primary school, but you probably don't know how to type those symbols with your keyboard.  \n",
    "`( ∘_ ∘)/ ×÷...?`  \n",
    "On [TryAPL](https://tryapl.org/), symbols are explained in the \"Primer\" tab. You can find out more about typing APL symbols using your keyboard on [the Dyalog website](https://www.dyalog.com/apl-font-keyboard.htm#tab-1)."
   ]
  },
  {
   "cell_type": "markdown",
   "metadata": {},
   "source": [
    "Now that's out of the way, let's continue to learn us...\n",
    "\n",
    "Just like Haskell, APL lets us use several operations on one line. Unlike Haskell, there is only one precedence rule. **The result of the statement on the right is the argument of the function**."
   ]
  },
  {
   "cell_type": "code",
   "execution_count": 5,
   "metadata": {},
   "outputs": [
    {
     "data": {
      "text/html": [
       "<span style=\"white-space:pre; font-family: monospace\">¯244950\n",
       "</span>"
      ]
     },
     "execution_count": 5,
     "metadata": {},
     "output_type": "execute_result"
    },
    {
     "data": {
      "text/html": [
       "<span style=\"white-space:pre; font-family: monospace\">¯244950\n",
       "</span>"
      ]
     },
     "execution_count": 5,
     "metadata": {},
     "output_type": "execute_result"
    },
    {
     "data": {
      "text/html": [
       "<span style=\"white-space:pre; font-family: monospace\">1\n",
       "</span>"
      ]
     },
     "execution_count": 5,
     "metadata": {},
     "output_type": "execute_result"
    }
   ],
   "source": [
    "50 × 100 - 4999 ⍝ Different to Haskell\n",
    "50 × (100 - 4999) ⍝ APL evaluates right-to-left\n",
    "(50 × 100) - 4999 ⍝ Parentheses force precedence (←This is like the Haskell example)"
   ]
  },
  {
   "cell_type": "markdown",
   "metadata": {},
   "source": [
    "Do you notice something funny about the **negative numbers** there? APL only uses `-` for __subtraction__ (`3-8`) and __negation__ (`-5`). Negative numbers are represented with a **high minus** `¯`."
   ]
  },
  {
   "cell_type": "code",
   "execution_count": 7,
   "metadata": {},
   "outputs": [
    {
     "data": {
      "text/html": [
       "<span style=\"white-space:pre; font-family: monospace\">¯3\n",
       "</span>"
      ]
     },
     "execution_count": 7,
     "metadata": {},
     "output_type": "execute_result"
    },
    {
     "data": {
      "text/html": [
       "<span style=\"white-space:pre; font-family: monospace\">¯3\n",
       "</span>"
      ]
     },
     "execution_count": 7,
     "metadata": {},
     "output_type": "execute_result"
    },
    {
     "data": {
      "text/html": [
       "<span style=\"white-space:pre; font-family: monospace\">¯2\n",
       "</span>"
      ]
     },
     "execution_count": 7,
     "metadata": {},
     "output_type": "execute_result"
    },
    {
     "data": {
      "text/html": [
       "<span style=\"white-space:pre; font-family: monospace\">8\n",
       "</span>"
      ]
     },
     "execution_count": 7,
     "metadata": {},
     "output_type": "execute_result"
    }
   ],
   "source": [
    "-3   ⍝ Equivalent to 0-3\n",
    "¯3   ⍝ Negative 3\n",
    "3-5  ⍝ 3 minus 5\n",
    "3-¯5 ⍝ 3 minus negative 5"
   ]
  },
  {
   "cell_type": "markdown",
   "metadata": {},
   "source": [
    "Boolean algebra is pretty straightforward. `1` means **true** and `0` means **false**. `∧` means a boolean **and**, `∨` means a boolean **or** and `~` means **not**."
   ]
  },
  {
   "cell_type": "code",
   "execution_count": 9,
   "metadata": {},
   "outputs": [
    {
     "data": {
      "text/html": [
       "<span style=\"white-space:pre; font-family: monospace\">0\n",
       "</span>"
      ]
     },
     "execution_count": 9,
     "metadata": {},
     "output_type": "execute_result"
    },
    {
     "data": {
      "text/html": [
       "<span style=\"white-space:pre; font-family: monospace\">1\n",
       "</span>"
      ]
     },
     "execution_count": 9,
     "metadata": {},
     "output_type": "execute_result"
    },
    {
     "data": {
      "text/html": [
       "<span style=\"white-space:pre; font-family: monospace\">1\n",
       "</span>"
      ]
     },
     "execution_count": 9,
     "metadata": {},
     "output_type": "execute_result"
    },
    {
     "data": {
      "text/html": [
       "<span style=\"white-space:pre; font-family: monospace\">1\n",
       "</span>"
      ]
     },
     "execution_count": 9,
     "metadata": {},
     "output_type": "execute_result"
    },
    {
     "data": {
      "text/html": [
       "<span style=\"white-space:pre; font-family: monospace\">0\n",
       "</span>"
      ]
     },
     "execution_count": 9,
     "metadata": {},
     "output_type": "execute_result"
    }
   ],
   "source": [
    "1 ∧ 0 ⍝ True AND False\n",
    "1 ∧ 1 ⍝ True AND True\n",
    "0 ∨ 1 ⍝ False OR True\n",
    "~0    ⍝ NOT False\n",
    "~1∧1  ⍝ NOT (True AND True)"
   ]
  },
  {
   "cell_type": "markdown",
   "metadata": {},
   "source": [
    "Testing for equality is done like so."
   ]
  },
  {
   "cell_type": "code",
   "execution_count": 15,
   "metadata": {},
   "outputs": [
    {
     "data": {
      "text/html": [
       "<span style=\"white-space:pre; font-family: monospace\">1\n",
       "</span>"
      ]
     },
     "execution_count": 15,
     "metadata": {},
     "output_type": "execute_result"
    },
    {
     "data": {
      "text/html": [
       "<span style=\"white-space:pre; font-family: monospace\">0\n",
       "</span>"
      ]
     },
     "execution_count": 15,
     "metadata": {},
     "output_type": "execute_result"
    },
    {
     "data": {
      "text/html": [
       "<span style=\"white-space:pre; font-family: monospace\">0\n",
       "</span>"
      ]
     },
     "execution_count": 15,
     "metadata": {},
     "output_type": "execute_result"
    },
    {
     "data": {
      "text/html": [
       "<span style=\"white-space:pre; font-family: monospace\">1\n",
       "</span>"
      ]
     },
     "execution_count": 15,
     "metadata": {},
     "output_type": "execute_result"
    },
    {
     "data": {
      "text/html": [
       "<span style=\"white-space:pre; font-family: monospace\">1 1 1 1 1\n",
       "</span>"
      ]
     },
     "execution_count": 15,
     "metadata": {},
     "output_type": "execute_result"
    },
    {
     "data": {
      "text/html": [
       "<span style=\"white-space:pre; font-family: monospace\">1\n",
       "</span>"
      ]
     },
     "execution_count": 15,
     "metadata": {},
     "output_type": "execute_result"
    }
   ],
   "source": [
    "5 = 5\n",
    "1 = 0\n",
    "5 ≠ 5\n",
    "5 ≠ 4\n",
    "'hello' = 'hello' ⍝ APL compares arrays element-by-element\n",
    "⍝ To get something similar to Haskell for the 'hello' example, use ≡ (match) which tests for the same shape AND content of two arrays.\n",
    "'hello' ≡ 'hello' ⍝ These arrays have the same shape and content"
   ]
  },
  {
   "cell_type": "markdown",
   "metadata": {},
   "source": [
    "What about doing `5 + 'llama'`? (or `5 = True` ? - booleans are a numeric type in APL so this one is easy).  \n",
    "In APL, all data are arrays. They are either numeric arrays, character arrays or mixed arrays. Arrays can also contain other arrays."
   ]
  },
  {
   "cell_type": "code",
   "execution_count": 16,
   "metadata": {},
   "outputs": [
    {
     "name": "stderr",
     "output_type": "stream",
     "text": [
      "DOMAIN ERROR\n",
      "      5+'llama'       ⍝ Cannot add characters to numbers, gives DOMAIN ERROR\n",
      "       ∧\n"
     ]
    },
    {
     "data": {
      "text/html": [
       "<span style=\"white-space:pre; font-family: monospace\">0\n",
       "</span>"
      ]
     },
     "execution_count": 16,
     "metadata": {},
     "output_type": "execute_result"
    },
    {
     "data": {
      "text/html": [
       "<span style=\"white-space:pre; font-family: monospace\">1 2 3 4 5\n",
       "</span>"
      ]
     },
     "execution_count": 16,
     "metadata": {},
     "output_type": "execute_result"
    },
    {
     "data": {
      "text/html": [
       "<span style=\"white-space:pre; font-family: monospace\">hello\n",
       "</span>"
      ]
     },
     "execution_count": 16,
     "metadata": {},
     "output_type": "execute_result"
    },
    {
     "data": {
      "text/html": [
       "<span style=\"white-space:pre; font-family: monospace\">1 A 2 P 3 L\n",
       "</span>"
      ]
     },
     "execution_count": 16,
     "metadata": {},
     "output_type": "execute_result"
    },
    {
     "data": {
      "text/html": [
       "<span style=\"white-space:pre; font-family: monospace\">┌─┬─┬───┬─┐\n",
       "│1│2│3 4│5│\n",
       "└─┴─┴───┴─┘\n",
       "</span>"
      ]
     },
     "execution_count": 16,
     "metadata": {},
     "output_type": "execute_result"
    },
    {
     "data": {
      "text/html": [
       "<span style=\"white-space:pre; font-family: monospace\">┌───┬───┐\n",
       "│hey│you│\n",
       "└───┴───┘\n",
       "</span>"
      ]
     },
     "execution_count": 16,
     "metadata": {},
     "output_type": "execute_result"
    }
   ],
   "source": [
    "5 + 'llama'       ⍝ Cannot add characters to numbers, gives DOMAIN ERROR\n",
    "5 = 1             ⍝ Booleans are numeric\n",
    "1 2 3 4 5         ⍝ A simple numeric array with 5 elements (simple means it isn't nested with other arrays)\n",
    "'hello'           ⍝ A simple character array with 5 elements\n",
    "1 'A' 2 'P' 3 'L' ⍝ A simple mixed array with 6 elements\n",
    "1 2 (3 4) 5       ⍝ A nested numeric array\n",
    "'hey' 'you'       ⍝ A nested array containing 2 character arrays of 3 elements each."
   ]
  },
  {
   "cell_type": "markdown",
   "metadata": {},
   "source": [
    "You may have noticed the \"boxed\" output of nested arrays above. APL arrays have a **depth** and a **rank** which will either be explained below or later on (if it turns out to be later I will link from here).\n",
    "\n",
    "Basically, depth describes how far nested is the most nested array in your array is (hey I heard you like arrays, so I put an array in your array so you can array your array (is this meme still good?)).\n",
    "\n",
    "I will demonstrate nesting below, but it is also mentioning one other quirk of character data in APL.   \n",
    "Singleton characters can be juxtaposed to form a character vector."
   ]
  },
  {
   "cell_type": "code",
   "execution_count": 17,
   "metadata": {},
   "outputs": [
    {
     "data": {
      "text/html": [
       "<span style=\"white-space:pre; font-family: monospace\">APL\n",
       "</span>"
      ]
     },
     "execution_count": 17,
     "metadata": {},
     "output_type": "execute_result"
    },
    {
     "data": {
      "text/html": [
       "<span style=\"white-space:pre; font-family: monospace\">APL\n",
       "</span>"
      ]
     },
     "execution_count": 17,
     "metadata": {},
     "output_type": "execute_result"
    },
    {
     "data": {
      "text/html": [
       "<span style=\"white-space:pre; font-family: monospace\">1\n",
       "</span>"
      ]
     },
     "execution_count": 17,
     "metadata": {},
     "output_type": "execute_result"
    }
   ],
   "source": [
    "'A' 'P' 'L'         ⍝ This is the same...\n",
    "'APL'               ⍝ ... as this.\n",
    "'APL' ≡ 'A' 'P' 'L' ⍝ See?"
   ]
  },
  {
   "cell_type": "markdown",
   "metadata": {},
   "source": [
    "However, juxtaposing character arrays forms a nested array."
   ]
  },
  {
   "cell_type": "code",
   "execution_count": 19,
   "metadata": {},
   "outputs": [
    {
     "data": {
      "text/html": [
       "<span style=\"white-space:pre; font-family: monospace\">┌───┬───────┬─────┐\n",
       "│APL│is cool│yeah?│\n",
       "└───┴───────┴─────┘\n",
       "</span>"
      ]
     },
     "execution_count": 19,
     "metadata": {},
     "output_type": "execute_result"
    },
    {
     "data": {
      "text/html": [
       "<span style=\"white-space:pre; font-family: monospace\">┌─┬─┬─┬──┬────┬─┬─┬─┐\n",
       "│A│P│L│is│cool│A│P│L│\n",
       "└─┴─┴─┴──┴────┴─┴─┴─┘\n",
       "</span>"
      ]
     },
     "execution_count": 19,
     "metadata": {},
     "output_type": "execute_result"
    }
   ],
   "source": [
    "'APL' 'is cool' 'yeah?'              ⍝ A 3 element array containing character arrays of length 3, 7 and 5 respectively\n",
    "'A' 'P' 'L' 'is' 'cool' 'A' 'P' 'L'  ⍝ An 8 element array containing character arrays of various lengths"
   ]
  },
  {
   "cell_type": "markdown",
   "metadata": {},
   "source": [
    "Okay a quick demonstration of depth and then back to Haskell..."
   ]
  },
  {
   "cell_type": "code",
   "execution_count": 27,
   "metadata": {},
   "outputs": [
    {
     "data": {
      "text/html": [
       "<span style=\"white-space:pre; font-family: monospace\">1\n",
       "</span>"
      ]
     },
     "execution_count": 27,
     "metadata": {},
     "output_type": "execute_result"
    },
    {
     "data": {
      "text/html": [
       "<span style=\"white-space:pre; font-family: monospace\">1\n",
       "</span>"
      ]
     },
     "execution_count": 27,
     "metadata": {},
     "output_type": "execute_result"
    },
    {
     "data": {
      "text/html": [
       "<span style=\"white-space:pre; font-family: monospace\">2\n",
       "</span>"
      ]
     },
     "execution_count": 27,
     "metadata": {},
     "output_type": "execute_result"
    },
    {
     "data": {
      "text/html": [
       "<span style=\"white-space:pre; font-family: monospace\">3\n",
       "</span>"
      ]
     },
     "execution_count": 27,
     "metadata": {},
     "output_type": "execute_result"
    },
    {
     "data": {
      "text/html": [
       "<span style=\"white-space:pre; font-family: monospace\">┌─────────┬─────────┐\n",
       "│┌───┬───┐│┌───┬───┐│\n",
       "││1 2│3 4│││5 6│7 8││\n",
       "│└───┴───┘│└───┴───┘│\n",
       "└─────────┴─────────┘\n",
       "</span>"
      ]
     },
     "execution_count": 27,
     "metadata": {},
     "output_type": "execute_result"
    },
    {
     "data": {
      "text/html": [
       "<span style=\"white-space:pre; font-family: monospace\">¯3\n",
       "</span>"
      ]
     },
     "execution_count": 27,
     "metadata": {},
     "output_type": "execute_result"
    },
    {
     "data": {
      "text/html": [
       "<span style=\"white-space:pre; font-family: monospace\">┌───┬───────────┬────┐\n",
       "│APL│┌──┬──────┐│cool│\n",
       "│   ││is│really││    │\n",
       "│   │└──┴──────┘│    │\n",
       "└───┴───────────┴────┘\n",
       "</span>"
      ]
     },
     "execution_count": 27,
     "metadata": {},
     "output_type": "execute_result"
    }
   ],
   "source": [
    "≡1 2 3 4 5                    ⍝ Prefix (monadic) ≡ is \"depth\"\n",
    "≡'Cool'                       ⍝ The depth of a simple array is 1\n",
    "≡'APL' 'is' 'cool'            ⍝ Nested arrays have depth >1\n",
    "≡(((1 2)(3 4)))(((5 6)(7 8))) ⍝ The deeper the nesting, the higher the depth (get it?)\n",
    "(((1 2)(3 4)))(((5 6)(7 8)))  ⍝ What does it look like?\n",
    "≡'APL' ('is' 'really') 'cool' ⍝ Uneven nesting gives a negative depth\n",
    "'APL' ('is' 'really') 'cool'  ⍝ Some sub-arrays are more deeply nested than others"
   ]
  },
  {
   "cell_type": "markdown",
   "metadata": {},
   "source": [
    "Okay so we've been using the heck out of functions all the way through this tutorial so far. In APL functions are either **prefix** (monadic) or **infix** (dyadic). APL was using the words _monadic_ and _dyadic_ before monads were a popular term, so you will often see APL functions referred to as monadic or dyadic. However, since we are shamelessly copying a functional programming tutorial, we'll use _prefix_ and _infix_ from now on."
   ]
  },
  {
   "cell_type": "code",
   "execution_count": 29,
   "metadata": {},
   "outputs": [
    {
     "data": {
      "text/html": [
       "<span style=\"white-space:pre; font-family: monospace\">15\n",
       "</span>"
      ]
     },
     "execution_count": 29,
     "metadata": {},
     "output_type": "execute_result"
    },
    {
     "data": {
      "text/html": [
       "<span style=\"white-space:pre; font-family: monospace\">¯1 1 1\n",
       "</span>"
      ]
     },
     "execution_count": 29,
     "metadata": {},
     "output_type": "execute_result"
    },
    {
     "data": {
      "text/html": [
       "<span style=\"white-space:pre; font-family: monospace\">1\n",
       "</span>"
      ]
     },
     "execution_count": 29,
     "metadata": {},
     "output_type": "execute_result"
    },
    {
     "data": {
      "text/html": [
       "<span style=\"white-space:pre; font-family: monospace\">1\n",
       "</span>"
      ]
     },
     "execution_count": 29,
     "metadata": {},
     "output_type": "execute_result"
    },
    {
     "data": {
      "text/html": [
       "<span style=\"white-space:pre; font-family: monospace\">4.1\n",
       "</span>"
      ]
     },
     "execution_count": 29,
     "metadata": {},
     "output_type": "execute_result"
    },
    {
     "data": {
      "text/html": [
       "<span style=\"white-space:pre; font-family: monospace\">4 5\n",
       "</span>"
      ]
     },
     "execution_count": 29,
     "metadata": {},
     "output_type": "execute_result"
    }
   ],
   "source": [
    "3 × 5     ⍝ Infix × is multiplication\n",
    "× ¯1 2 3  ⍝ Prefix × gives the sign (signum) of the argument\n",
    "3 4 ≡ 3 4 ⍝ Infix ≡ is match (same shape and content)\n",
    "≡ 3 4 5   ⍝ Prefix ≡ is depth (how deep is your nest?)\n",
    "3.2 ⌈ 4.1 ⍝ Infix ⌈ (upstile) is max (which number is higher?)\n",
    "⌈3.2 4.1  ⍝ Prefix ⌈ is \"ceiling\" (round up)"
   ]
  },
  {
   "cell_type": "markdown",
   "metadata": {},
   "source": [
    "We can make the \"succ\" function from haskell by assigning the name \"succ\" to the function 1∘+ (one-jot-plus). [∘] The compose function (infix jot) binds stuff together. In this case, we are binding [1] to [+] to create the numeric integer successor function."
   ]
  },
  {
   "cell_type": "code",
   "execution_count": 36,
   "metadata": {},
   "outputs": [
    {
     "data": {
      "text/html": [
       "<span style=\"white-space:pre; font-family: monospace\">9\n",
       "</span>"
      ]
     },
     "execution_count": 36,
     "metadata": {},
     "output_type": "execute_result"
    }
   ],
   "source": [
    "succ ← 1∘+ ⍝ Assignment is done using the left arrow ←\n",
    "eight ← 8  ⍝ Assignment doesn't output to the session\n",
    "succ eight ⍝ Why was 6 afraid of 7? Because 7 = succ eight. Whatever..."
   ]
  },
  {
   "cell_type": "markdown",
   "metadata": {},
   "source": [
    "Remember, functions take the result of statements to their right as their argument. Precedence can be forced using parentheses (())."
   ]
  },
  {
   "cell_type": "code",
   "execution_count": 38,
   "metadata": {},
   "outputs": [
    {
     "data": {
      "text/html": [
       "<span style=\"white-space:pre; font-family: monospace\">10 6\n",
       "</span>"
      ]
     },
     "execution_count": 38,
     "metadata": {},
     "output_type": "execute_result"
    },
    {
     "data": {
      "text/html": [
       "<span style=\"white-space:pre; font-family: monospace\">16\n",
       "</span>"
      ]
     },
     "execution_count": 38,
     "metadata": {},
     "output_type": "execute_result"
    },
    {
     "data": {
      "text/html": [
       "<span style=\"white-space:pre; font-family: monospace\">10 6\n",
       "</span>"
      ]
     },
     "execution_count": 38,
     "metadata": {},
     "output_type": "execute_result"
    },
    {
     "data": {
      "text/html": [
       "<span style=\"white-space:pre; font-family: monospace\">10 6\n",
       "</span>"
      ]
     },
     "execution_count": 38,
     "metadata": {},
     "output_type": "execute_result"
    }
   ],
   "source": [
    "1 + 9 5 ⌈ 4 + 1       ⍝ This is very different...\n",
    "(1 + 9) + (5 ⌈ 4) + 1 ⍝ ... to this...\n",
    "1 + 9 (5⌈ (4 + 1))    ⍝ ... but is the same as this...\n",
    "1 + 9 5               ⍝ ... and this."
   ]
  },
  {
   "cell_type": "markdown",
   "metadata": {},
   "source": [
    "Lots of people who come from imperative languages tend to stick to the notion that parentheses should denote function application. For example, in C, you use parentheses to call functions like `foo()`, `bar(1)` or `baz(3, \"haha\")`. Spaces are used for function application in APL. So those functions in APL would be `foo`, `bar 1` and `baz 3 'haha'`. So if you see something like `bar bar 3` or `bar(bar 3)`, it doesn't mean that bar is called with bar and 3 as parameters. It means that we first call the function bar with 3 as the parameter to get some number and then we call bar again with that number. In C, that would be something like bar(bar(3))."
   ]
  },
  {
   "cell_type": "markdown",
   "metadata": {},
   "source": [
    "### Baby's first functions\n",
    "At this point the Haskell tutorial has you creating code in a .hs file, but this APL tutorial lives in Jupyter notebooks. You can interact by running this in TryAPL but you will not be able to save any changes. Setting up Jupyter notebooks will allow you to edit the notebooks and save any changes you make. There is also the full-fledged Dyalog interpreter for Windows, Mac OS and Linux but we won't be getting into that interface in this tutorial (TODO - link to resources). If you have decided to follow along in the Dyalog interpreter, You may want to `)SAVE` your workspace as you go."
   ]
  },
  {
   "cell_type": "markdown",
   "metadata": {},
   "source": [
    "From now, it is a good idea to either re-type or modify any examples you see to try to get a feel for how APL works. The inventor of APL, Kenneth E. Iverson, remarked in his \"Working Introduction to APL\" (1981, I.P. Sharp Associates): \"I have long been struck by the contrast between the success with which the adventurous learn APL by simply using it, and the frequent failure of lecture courses to communicate the simplicity and applicability of the language.\"  "
   ]
  },
  {
   "cell_type": "markdown",
   "metadata": {},
   "source": [
    "Back to functions. Just now we sneakily introduced assignment without much context, but I feel like it's pretty intuitive. Let's start assigning functions and data to names and make some magic happen."
   ]
  },
  {
   "cell_type": "code",
   "execution_count": 40,
   "metadata": {},
   "outputs": [
    {
     "data": {
      "text/html": [
       "<span style=\"white-space:pre; font-family: monospace\">18\n",
       "</span>"
      ]
     },
     "execution_count": 40,
     "metadata": {},
     "output_type": "execute_result"
    }
   ],
   "source": [
    "doubleMe ← {2×⍵} \n",
    "doubleMe 9"
   ]
  },
  {
   "cell_type": "markdown",
   "metadata": {},
   "source": [
    "Oops. Did I forget to mention that there are 3 function styles in APL?"
   ]
  },
  {
   "cell_type": "markdown",
   "metadata": {},
   "source": [
    "### dfns\n",
    "A dfn (\"dee-f'n\") is what you just saw above. They are defined by curly braces `{}` and take a right argument `⍵` and an optional left argument `⍺`."
   ]
  },
  {
   "cell_type": "code",
   "execution_count": 41,
   "metadata": {},
   "outputs": [
    {
     "data": {
      "text/html": [
       "<span style=\"white-space:pre; font-family: monospace\">50\n",
       "</span>"
      ]
     },
     "execution_count": 41,
     "metadata": {},
     "output_type": "execute_result"
    },
    {
     "data": {
      "text/html": [
       "<span style=\"white-space:pre; font-family: monospace\">50\n",
       "</span>"
      ]
     },
     "execution_count": 41,
     "metadata": {},
     "output_type": "execute_result"
    },
    {
     "data": {
      "text/html": [
       "<span style=\"white-space:pre; font-family: monospace\">4\n",
       "</span>"
      ]
     },
     "execution_count": 41,
     "metadata": {},
     "output_type": "execute_result"
    },
    {
     "data": {
      "text/html": [
       "<span style=\"white-space:pre; font-family: monospace\">2 4 8\n",
       "</span>"
      ]
     },
     "execution_count": 41,
     "metadata": {},
     "output_type": "execute_result"
    }
   ],
   "source": [
    "doubleMe 25        ⍝ A named prefix dfn\n",
    "{5×⍵}10            ⍝ You can have in-line, unnamed dfns\n",
    "2 {⍺ * ⍵} 2        ⍝ An unnamed infix dfn\n",
    "2 {⍺ * ⍵} 1 2 3    ⍝ The syntax for named functions is the same as primitive (symbolic) functions"
   ]
  },
  {
   "cell_type": "code",
   "execution_count": 49,
   "metadata": {},
   "outputs": [
    {
     "data": {
      "text/html": [
       "<span style=\"white-space:pre; font-family: monospace\">26\n",
       "</span>"
      ]
     },
     "execution_count": 49,
     "metadata": {},
     "output_type": "execute_result"
    },
    {
     "data": {
      "text/html": [
       "<span style=\"white-space:pre; font-family: monospace\">26\n",
       "</span>"
      ]
     },
     "execution_count": 49,
     "metadata": {},
     "output_type": "execute_result"
    },
    {
     "data": {
      "text/html": [
       "<span style=\"white-space:pre; font-family: monospace\">26\n",
       "</span>"
      ]
     },
     "execution_count": 49,
     "metadata": {},
     "output_type": "execute_result"
    },
    {
     "data": {
      "text/html": [
       "<span style=\"white-space:pre; font-family: monospace\">28\n",
       "</span>"
      ]
     },
     "execution_count": 49,
     "metadata": {},
     "output_type": "execute_result"
    },
    {
     "data": {
      "text/html": [
       "<span style=\"white-space:pre; font-family: monospace\">┌─────┐\n",
       "│26 10│\n",
       "└─────┘\n",
       "</span>"
      ]
     },
     "execution_count": 49,
     "metadata": {},
     "output_type": "execute_result"
    },
    {
     "data": {
      "text/html": [
       "<span style=\"white-space:pre; font-family: monospace\">6 14 26\n",
       "</span>"
      ]
     },
     "execution_count": 49,
     "metadata": {},
     "output_type": "execute_result"
    },
    {
     "data": {
      "text/html": [
       "<span style=\"white-space:pre; font-family: monospace\">1216\n",
       "</span>"
      ]
     },
     "execution_count": 49,
     "metadata": {},
     "output_type": "execute_result"
    },
    {
     "data": {
      "text/html": [
       "<span style=\"white-space:pre; font-family: monospace\">478\n",
       "</span>"
      ]
     },
     "execution_count": 49,
     "metadata": {},
     "output_type": "execute_result"
    }
   ],
   "source": [
    "doubleUs ← {(⍺×2)+⍵×2}          ⍝ One fairly clumsy way to write an infix version of doubleUs\n",
    "4 doubleUs 9\n",
    "doubleUs ← {+/2×⍺ ⍵}            ⍝ A slightly more elegant way, I promise I'll explain the slash soon!\n",
    "4 doubleUs 9\n",
    "doubleUs ← {+/⍵×2}              ⍝ This is prefix, but will take a list of any length and sum the doubles\n",
    "doubleUs 4 9\n",
    "doubleUs 2 3 4 5\n",
    "doubleUs (4 2)(9 3)             ⍝ It will even take nested arrays\n",
    "doubleUs ↑(1 2)(3 4)(4 9)       ⍝ And matrices (argh! so much to explain!)\n",
    "doubleUs 28 88 + doubleMe 123   ⍝ Don't forget the precedence rule!\n",
    "(doubleUs 28 88) + doubleMe 123 ⍝ You probably meant this"
   ]
  },
  {
   "cell_type": "code",
   "execution_count": 52,
   "metadata": {},
   "outputs": [
    {
     "data": {
      "text/html": [
       "<span style=\"white-space:pre; font-family: monospace\">26\n",
       "</span>"
      ]
     },
     "execution_count": 52,
     "metadata": {},
     "output_type": "execute_result"
    }
   ],
   "source": [
    "doubleUs ← {+/doubleMe ⍵} ⍝ And functions can be derived from other functions\n",
    "doubleUs 4 9               ⍝ By using arrays, we can pretend like we have many arguments, but it's just one argument"
   ]
  },
  {
   "cell_type": "markdown",
   "metadata": {},
   "source": [
    "### Tacit\n",
    "Earlier we used the compose function `∘` to bind `1` and `+` to make the `succ` function.  \n",
    "This is an example of a tacit function (the arguments are implicit.)  \n",
    "Let's make tacit versions of `doubleMe` and `doubleUs`."
   ]
  },
  {
   "cell_type": "code",
   "execution_count": 55,
   "metadata": {},
   "outputs": [
    {
     "data": {
      "text/html": [
       "<span style=\"white-space:pre; font-family: monospace\">6\n",
       "</span>"
      ]
     },
     "execution_count": 55,
     "metadata": {},
     "output_type": "execute_result"
    },
    {
     "data": {
      "text/html": [
       "<span style=\"white-space:pre; font-family: monospace\">26\n",
       "</span>"
      ]
     },
     "execution_count": 55,
     "metadata": {},
     "output_type": "execute_result"
    },
    {
     "data": {
      "text/html": [
       "<span style=\"white-space:pre; font-family: monospace\">26\n",
       "</span>"
      ]
     },
     "execution_count": 55,
     "metadata": {},
     "output_type": "execute_result"
    },
    {
     "data": {
      "text/html": [
       "<span style=\"white-space:pre; font-family: monospace\">  ┌┴─┐ \n",
       "  /  ∘ \n",
       "┌─┘ ┌┴┐\n",
       "+   2 ×\n",
       "</span>"
      ]
     },
     "execution_count": 55,
     "metadata": {},
     "output_type": "execute_result"
    }
   ],
   "source": [
    "doubleMe ← 2∘×\n",
    "doubleMe 3\n",
    "doubleUs ← +/2∘×\n",
    "doubleUs 4 9\n",
    "(+/2∘×) 4 9 ⍝ Tacit functions can also be inline\n",
    "(+/2∘×)     ⍝ Entering the function into the session outputs in a neat tree representation if we have set ]Box on"
   ]
  },
  {
   "cell_type": "markdown",
   "metadata": {},
   "source": [
    "Now we're going to make a function that multiplies a number by 2 but only if that number is smaller than or equal to 100 because numbers bigger than 100 are big enough as it is! "
   ]
  },
  {
   "cell_type": "code",
   "execution_count": 56,
   "metadata": {},
   "outputs": [],
   "source": [
    "doubleSmallNumber ← {⍵>100: ⍵ ⋄ ⍵×2}"
   ]
  },
  {
   "cell_type": "markdown",
   "metadata": {},
   "source": [
    "Here we introduced the dfn guard. A guard is like an `if` statement which executes the statement following `:` if the statement before `:` returns a `1`. Otherwise it executes the next line. With dfns, the function terminates on the first statement which is not an assignment. In APL, `⋄` diamonds are statement separators. They work like new lines in most cases."
   ]
  },
  {
   "cell_type": "code",
   "execution_count": 59,
   "metadata": {},
   "outputs": [
    {
     "data": {
      "text/html": [
       "<span style=\"white-space:pre; font-family: monospace\">9\n",
       "</span>"
      ]
     },
     "execution_count": 59,
     "metadata": {},
     "output_type": "execute_result"
    },
    {
     "data": {
      "text/html": [
       "<span style=\"white-space:pre; font-family: monospace\">7\n",
       "</span>"
      ]
     },
     "execution_count": 59,
     "metadata": {},
     "output_type": "execute_result"
    }
   ],
   "source": [
    "{a←⍵⋄b←a+2⋄b⋄a} 7        ⍝ This function returns ⍵ + 2 (variable a)\n",
    "{a←⍵×2 ⋄ a←⍵-2 ⋄ ⍵} 7   ⍝ This function returns ⍵. a is local to the dfn so it just vanishes afterwards."
   ]
  },
  {
   "cell_type": "code",
   "execution_count": 64,
   "metadata": {},
   "outputs": [
    {
     "data": {
      "text/html": [
       "<span style=\"white-space:pre; font-family: monospace\">10\n",
       "</span>"
      ]
     },
     "execution_count": 64,
     "metadata": {},
     "output_type": "execute_result"
    },
    {
     "data": {
      "text/html": [
       "<span style=\"white-space:pre; font-family: monospace\">101\n",
       "</span>"
      ]
     },
     "execution_count": 64,
     "metadata": {},
     "output_type": "execute_result"
    },
    {
     "name": "stderr",
     "output_type": "stream",
     "text": [
      "LENGTH ERROR: Boolean singleton value required\n",
      "doubleSmallNumber[0] doubleSmallNumber←{⍵>100:⍵ ⋄ ⍵×2}\n",
      "                                         ∧\n"
     ]
    }
   ],
   "source": [
    "doubleSmallNumber 5     ⍝ Back to our example\n",
    "doubleSmallNumber 101   ⍝ Leave numbers > 100 alone\n",
    "doubleSmallNumber 5 100 ⍝ Because of the guard, it doesn't work on arrays\n",
    "⍝ We'll look at making a version that works on arrays later on..."
   ]
  },
  {
   "cell_type": "markdown",
   "metadata": {},
   "source": [
    "### An intro to arrays\n",
    "Compared to the Haskell tutorial, I massively jumped the gun and introduced lists earlier on. Because APL is an array-oriented language, all data are arrays and the language really shines when we think in an array-oriented fashion.  \n",
    "For example, earlier we were using `+/` to get the sum of a list."
   ]
  },
  {
   "cell_type": "code",
   "execution_count": 66,
   "metadata": {},
   "outputs": [
    {
     "data": {
      "text/html": [
       "<span style=\"white-space:pre; font-family: monospace\">15\n",
       "</span>"
      ]
     },
     "execution_count": 66,
     "metadata": {},
     "output_type": "execute_result"
    },
    {
     "data": {
      "text/html": [
       "<span style=\"white-space:pre; font-family: monospace\">15\n",
       "</span>"
      ]
     },
     "execution_count": 66,
     "metadata": {},
     "output_type": "execute_result"
    },
    {
     "data": {
      "text/html": [
       "<span style=\"white-space:pre; font-family: monospace\">120\n",
       "</span>"
      ]
     },
     "execution_count": 66,
     "metadata": {},
     "output_type": "execute_result"
    }
   ],
   "source": [
    "+/1 2 3 4 5 ⍝ Sum of integers 1 to 5\n",
    "1+2+3+4+5   ⍝ Reduce (/) inserts the function (+) between each of the elements in a list\n",
    "×/1 2 3 4 5 ⍝ The product is computed in a similar fashion"
   ]
  },
  {
   "cell_type": "markdown",
   "metadata": {},
   "source": [
    "`/` in APL is an **operator**. Operators take functions and return derived functions. The _reduce_ operator `/` inserts its left **operand** function between each of the elements in the vectors along the last axis of the argument array. Yeesh, a lot to unpack there..."
   ]
  },
  {
   "cell_type": "markdown",
   "metadata": {},
   "source": [
    "We had a shallow look at depth earlier on (*cough*), but APL arrays are more about the **shape**. The shape function, prefix `⍴`, returns the shape of an array. The shape of an array is more easily shown than described..."
   ]
  },
  {
   "cell_type": "code",
   "execution_count": 69,
   "metadata": {},
   "outputs": [
    {
     "data": {
      "text/html": [
       "<span style=\"white-space:pre; font-family: monospace\">1\n",
       "</span>"
      ]
     },
     "execution_count": 69,
     "metadata": {},
     "output_type": "execute_result"
    },
    {
     "data": {
      "text/html": [
       "<span style=\"white-space:pre; font-family: monospace\">\n",
       "</span>"
      ]
     },
     "execution_count": 69,
     "metadata": {},
     "output_type": "execute_result"
    },
    {
     "data": {
      "text/html": [
       "<span style=\"white-space:pre; font-family: monospace\">\n",
       "</span>"
      ]
     },
     "execution_count": 69,
     "metadata": {},
     "output_type": "execute_result"
    },
    {
     "data": {
      "text/html": [
       "<span style=\"white-space:pre; font-family: monospace\">1\n",
       "</span>"
      ]
     },
     "execution_count": 69,
     "metadata": {},
     "output_type": "execute_result"
    }
   ],
   "source": [
    "1 ⍝ A scalar has no shape (the shape function returns the empty numeric array ⍬)\n",
    "⍴54\n",
    "⍬\n",
    "⍬≡⍴213"
   ]
  },
  {
   "cell_type": "code",
   "execution_count": 71,
   "metadata": {},
   "outputs": [
    {
     "data": {
      "text/html": [
       "<span style=\"white-space:pre; font-family: monospace\">1 2 3\n",
       "</span>"
      ]
     },
     "execution_count": 71,
     "metadata": {},
     "output_type": "execute_result"
    },
    {
     "data": {
      "text/html": [
       "<span style=\"white-space:pre; font-family: monospace\">3\n",
       "</span>"
      ]
     },
     "execution_count": 71,
     "metadata": {},
     "output_type": "execute_result"
    }
   ],
   "source": [
    "1 2 3 ⍝ A list has a shape equal to its number of elements\n",
    "⍴4 9 2"
   ]
  },
  {
   "cell_type": "code",
   "execution_count": 74,
   "metadata": {},
   "outputs": [
    {
     "data": {
      "text/html": [
       "<span style=\"white-space:pre; font-family: monospace\">2 2 2\n",
       "2 2 2\n",
       "2 2 2\n",
       "</span>"
      ]
     },
     "execution_count": 74,
     "metadata": {},
     "output_type": "execute_result"
    },
    {
     "data": {
      "text/html": [
       "<span style=\"white-space:pre; font-family: monospace\">APLAP\n",
       "LAPLA\n",
       "PLAPL\n",
       "</span>"
      ]
     },
     "execution_count": 74,
     "metadata": {},
     "output_type": "execute_result"
    },
    {
     "data": {
      "text/html": [
       "<span style=\"white-space:pre; font-family: monospace\">3 5\n",
       "</span>"
      ]
     },
     "execution_count": 74,
     "metadata": {},
     "output_type": "execute_result"
    }
   ],
   "source": [
    "3 3 ⍴ 2    ⍝ Infix ⍴ returns an array of the shape described on its left with content from its right\n",
    "3 5⍴'APL'  ⍝ Reshape recycles elements to fill the new array\n",
    "⍴3 5⍴'APL' ⍝ The shape of a reshaped array is the shape of the shape you gave it"
   ]
  },
  {
   "cell_type": "markdown",
   "metadata": {},
   "source": [
    "Putting two arrays together is called **concatenation** or **catenation** (matter of taste). We use `,` to join two arrays together."
   ]
  },
  {
   "cell_type": "code",
   "execution_count": 77,
   "metadata": {},
   "outputs": [
    {
     "data": {
      "text/html": [
       "<span style=\"white-space:pre; font-family: monospace\">1 2 3 4 5 6\n",
       "</span>"
      ]
     },
     "execution_count": 77,
     "metadata": {},
     "output_type": "execute_result"
    },
    {
     "data": {
      "text/html": [
       "<span style=\"white-space:pre; font-family: monospace\">┌─────┬─────┐\n",
       "│1 2 3│4 5 6│\n",
       "└─────┴─────┘\n",
       "</span>"
      ]
     },
     "execution_count": 77,
     "metadata": {},
     "output_type": "execute_result"
    }
   ],
   "source": [
    "a ← 1 2 3\n",
    "b ← 4 5 6\n",
    "a,b\n",
    "a b ⍝ Watch out! Juxtaposing two arrays (with a space between) creates a nested array"
   ]
  },
  {
   "cell_type": "code",
   "execution_count": 81,
   "metadata": {},
   "outputs": [
    {
     "data": {
      "text/html": [
       "<span style=\"white-space:pre; font-family: monospace\">1 2 3 abcde\n",
       "4 5 6 fghij\n",
       "</span>"
      ]
     },
     "execution_count": 81,
     "metadata": {},
     "output_type": "execute_result"
    },
    {
     "data": {
      "text/html": [
       "<span style=\"white-space:pre; font-family: monospace\">1 2 3 abcde\n",
       "4 5 6 fghij\n",
       "</span>"
      ]
     },
     "execution_count": 81,
     "metadata": {},
     "output_type": "execute_result"
    },
    {
     "name": "stderr",
     "output_type": "stream",
     "text": [
      "LENGTH ERROR\n",
      "      a,[1]b ⍝ We can tell APL to join along the first axis, but the axis lengths have to match\n",
      "       ∧\n"
     ]
    }
   ],
   "source": [
    "a ← 2 3⍴1 2 3 4 5 6\n",
    "b ← 2 5⍴'abcdefghijk'\n",
    "a,b  \n",
    "a,[2]b ⍝ , joins the last axis by default. a and b have 2 axes\n",
    "a,[1]b ⍝ We can tell APL to join along the first axis, but the axis lengths have to match"
   ]
  },
  {
   "cell_type": "markdown",
   "metadata": {},
   "source": [
    "The number of axes is described by the **rank** of an array. A scalar has rank 0, a vector (list) has rank 1, a matrix (table) has rank 2 etc."
   ]
  },
  {
   "cell_type": "code",
   "execution_count": 84,
   "metadata": {},
   "outputs": [
    {
     "data": {
      "text/html": [
       "<span style=\"white-space:pre; font-family: monospace\">0\n",
       "</span>"
      ]
     },
     "execution_count": 84,
     "metadata": {},
     "output_type": "execute_result"
    },
    {
     "data": {
      "text/html": [
       "<span style=\"white-space:pre; font-family: monospace\">1\n",
       "</span>"
      ]
     },
     "execution_count": 84,
     "metadata": {},
     "output_type": "execute_result"
    },
    {
     "data": {
      "text/html": [
       "<span style=\"white-space:pre; font-family: monospace\">2\n",
       "</span>"
      ]
     },
     "execution_count": 84,
     "metadata": {},
     "output_type": "execute_result"
    },
    {
     "data": {
      "text/html": [
       "<span style=\"white-space:pre; font-family: monospace\">3\n",
       "</span>"
      ]
     },
     "execution_count": 84,
     "metadata": {},
     "output_type": "execute_result"
    },
    {
     "name": "stderr",
     "output_type": "stream",
     "text": [
      "LIMIT ERROR: Rank of resultant array would exceed maximum permitted\n",
      "      ⍴⍴1 2 3 4 5 6 7 8 9 10 11 12 13 14 15 16⍴'APL' ⍝ Higher than rank 15 gives a LIMIT ERROR\n",
      "                                              ∧\n"
     ]
    }
   ],
   "source": [
    "⍴⍴1          ⍝ The rank is the shape of the shape of an array\n",
    "⍴⍴1 2 3 4 5  ⍝ Vectors are rank 1\n",
    "⍴⍴3 3⍴19     ⍝ Matrices are rank 2\n",
    "⍴⍴2 3 3⍴10   ⍝ Dyalog supports up to rank 15\n",
    "⍴⍴1 2 3 4 5 6 7 8 9 10 11 12 13 14 15 16⍴'APL' ⍝ Higher than rank 15 gives a LIMIT ERROR"
   ]
  },
  {
   "cell_type": "markdown",
   "metadata": {},
   "source": [
    "Indexing into an array (to get an element out) can be done in a couple of ways in APL. The first we will introduce is _square bracket indexing_."
   ]
  },
  {
   "cell_type": "code",
   "execution_count": 88,
   "metadata": {},
   "outputs": [
    {
     "data": {
      "text/html": [
       "<span style=\"white-space:pre; font-family: monospace\">B\n",
       "</span>"
      ]
     },
     "execution_count": 88,
     "metadata": {},
     "output_type": "execute_result"
    },
    {
     "data": {
      "text/html": [
       "<span style=\"white-space:pre; font-family: monospace\">6\n",
       "</span>"
      ]
     },
     "execution_count": 88,
     "metadata": {},
     "output_type": "execute_result"
    }
   ],
   "source": [
    "('Steve Buscemi')[7] ⍝ Indexing starts at 1 by default in APL\n",
    "(2 3 6 9 1)[3]       ⍝ The 3rd element is 6"
   ]
  },
  {
   "cell_type": "markdown",
   "metadata": {},
   "source": [
    "As we've seen, arrays within arrays can be different lengths, shapes, depths or types."
   ]
  },
  {
   "cell_type": "code",
   "execution_count": 92,
   "metadata": {},
   "outputs": [
    {
     "data": {
      "text/html": [
       "<span style=\"white-space:pre; font-family: monospace\">┌─────┬───────────┬─────────────┬─┐\n",
       "│1    │1 2 3      │APL          │A│\n",
       "├─────┼───────────┼─────────────┼─┤\n",
       "│P    │APL is cool│┌─┬─┬─────┬─┐│1│\n",
       "│     │           ││1│2│Donut│3││ │\n",
       "│     │           │└─┴─┴─────┴─┘│ │\n",
       "├─────┼───────────┼─────────────┼─┤\n",
       "│1 2 3│APL        │A            │P│\n",
       "└─────┴───────────┴─────────────┴─┘\n",
       "</span>"
      ]
     },
     "execution_count": 92,
     "metadata": {},
     "output_type": "execute_result"
    }
   ],
   "source": [
    "ARRAY←3 4⍴1 (1 2 3) 'APL' 'A' 'P' 'APL is cool' (1 2 'Donut' 3) ⍝ Quite a gnarly array!\n",
    "ARRAY"
   ]
  },
  {
   "cell_type": "markdown",
   "metadata": {},
   "source": [
    "Indexing into higher rank arrays uses semicolons."
   ]
  },
  {
   "cell_type": "code",
   "execution_count": 94,
   "metadata": {},
   "outputs": [
    {
     "data": {
      "text/html": [
       "<span style=\"white-space:pre; font-family: monospace\">┌─────────────┐\n",
       "│┌─┬─┬─────┬─┐│\n",
       "││1│2│Donut│3││\n",
       "│└─┴─┴─────┴─┘│\n",
       "└─────────────┘\n",
       "</span>"
      ]
     },
     "execution_count": 94,
     "metadata": {},
     "output_type": "execute_result"
    }
   ],
   "source": [
    "ARRAY[2;3]"
   ]
  },
  {
   "cell_type": "markdown",
   "metadata": {},
   "source": [
    "How can we get that donut? Reaching into the depths of a nested array is best done using **pick** `⊃`. The depth of the picking array is one less in magnitude than how deep the array to be picked is. This is a bit confusing, so let's take a look."
   ]
  },
  {
   "cell_type": "code",
   "execution_count": 99,
   "metadata": {},
   "outputs": [
    {
     "data": {
      "text/html": [
       "<span style=\"white-space:pre; font-family: monospace\">┌─────────────┐\n",
       "│┌─┬─┬─────┬─┐│\n",
       "││1│2│Donut│3││\n",
       "│└─┴─┴─────┴─┘│\n",
       "└─────────────┘\n",
       "</span>"
      ]
     },
     "execution_count": 99,
     "metadata": {},
     "output_type": "execute_result"
    },
    {
     "data": {
      "text/html": [
       "<span style=\"white-space:pre; font-family: monospace\">┌─┬─┬─────┬─┐\n",
       "│1│2│Donut│3│\n",
       "└─┴─┴─────┴─┘\n",
       "</span>"
      ]
     },
     "execution_count": 99,
     "metadata": {},
     "output_type": "execute_result"
    },
    {
     "data": {
      "text/html": [
       "<span style=\"white-space:pre; font-family: monospace\">┌─────┐\n",
       "│Donut│\n",
       "└─────┘\n",
       "</span>"
      ]
     },
     "execution_count": 99,
     "metadata": {},
     "output_type": "execute_result"
    },
    {
     "data": {
      "text/html": [
       "<span style=\"white-space:pre; font-family: monospace\">Donut\n",
       "</span>"
      ]
     },
     "execution_count": 99,
     "metadata": {},
     "output_type": "execute_result"
    },
    {
     "data": {
      "text/html": [
       "<span style=\"white-space:pre; font-family: monospace\">Donut\n",
       "</span>"
      ]
     },
     "execution_count": 99,
     "metadata": {},
     "output_type": "execute_result"
    },
    {
     "data": {
      "text/html": [
       "<span style=\"white-space:pre; font-family: monospace\">1 2 3\n",
       "</span>"
      ]
     },
     "execution_count": 99,
     "metadata": {},
     "output_type": "execute_result"
    },
    {
     "data": {
      "text/html": [
       "<span style=\"white-space:pre; font-family: monospace\">APL is cool\n",
       "</span>"
      ]
     },
     "execution_count": 99,
     "metadata": {},
     "output_type": "execute_result"
    },
    {
     "name": "stderr",
     "output_type": "stream",
     "text": [
      "RANK ERROR\n",
      "      (2 2)⊃ARRAY        ⍝ Otherwise RANK ERROR\n",
      "           ∧\n"
     ]
    }
   ],
   "source": [
    "ARRAY[2;3]         ⍝ Square bracket indexing gives a nested array\n",
    "⊃ARRAY[2;3]        ⍝ Prefix ⊃ discloses an array\n",
    "(⊃ARRAY[2;3])[3]   ⍝ We can index into the array\n",
    "⊃(⊃ARRAY[2;3])[3]  ⍝ But we have to disclose that array to get the plain text vector out\n",
    "⍝ There must be a better way to do this...\n",
    "((2 3)3)⊃ARRAY     ⍝ Neat\n",
    "(⊂1 2)⊃ARRAY       ⍝ 1st row, 2nd column\n",
    "(⊂2 2)⊃ARRAY       ⍝ The picking array must be enclosed if the array to be picked from is nested\n",
    "(2 2)⊃ARRAY        ⍝ Otherwise RANK ERROR"
   ]
  },
  {
   "cell_type": "markdown",
   "metadata": {},
   "source": [
    "Arrays can be compared if they are conformable. This means either their shapes must be the same, or one must be a scalar."
   ]
  },
  {
   "cell_type": "code",
   "execution_count": 102,
   "metadata": {},
   "outputs": [
    {
     "data": {
      "text/html": [
       "<span style=\"white-space:pre; font-family: monospace\">0 0 1 0\n",
       "</span>"
      ]
     },
     "execution_count": 102,
     "metadata": {},
     "output_type": "execute_result"
    },
    {
     "data": {
      "text/html": [
       "<span style=\"white-space:pre; font-family: monospace\">┌─────┬─────────────────────┬─────────────────┬─┐\n",
       "│1    │1 0 0                │0 0 0            │0│\n",
       "├─────┼─────────────────────┼─────────────────┼─┤\n",
       "│0    │0 0 0 0 0 0 0 0 0 0 0│┌─┬─┬─────────┬─┐│1│\n",
       "│     │                     ││1│0│0 0 0 0 0│0││ │\n",
       "│     │                     │└─┴─┴─────────┴─┘│ │\n",
       "├─────┼─────────────────────┼─────────────────┼─┤\n",
       "│1 0 0│0 0 0                │0                │0│\n",
       "└─────┴─────────────────────┴─────────────────┴─┘\n",
       "</span>"
      ]
     },
     "execution_count": 102,
     "metadata": {},
     "output_type": "execute_result"
    },
    {
     "name": "stderr",
     "output_type": "stream",
     "text": [
      "RANK ERROR\n",
      "      ARRAY=1 2 3         ⍝ RANK ERROR\n",
      "           ∧\n",
      "LENGTH ERROR: Mismatched left and right argument shapes\n",
      "      ARRAY=⊂1 2 3        ⍝ Shapes of subarrays must match\n",
      "           ∧\n"
     ]
    },
    {
     "data": {
      "text/html": [
       "<span style=\"white-space:pre; font-family: monospace\">┌─────┬─────┬─────┬─────┐\n",
       "│0 1 0│0 0 0│0 0 1│0 1 0│\n",
       "├─────┼─────┼─────┼─────┤\n",
       "│0 0 0│0 0 1│0 1 0│0 0 0│\n",
       "├─────┼─────┼─────┼─────┤\n",
       "│0 0 1│0 1 0│0 0 0│0 0 1│\n",
       "└─────┴─────┴─────┴─────┘\n",
       "</span>"
      ]
     },
     "execution_count": 102,
     "metadata": {},
     "output_type": "execute_result"
    }
   ],
   "source": [
    "1 2 3 4 > 1 3 2 5\n",
    "ARRAY = 1             ⍝\n",
    "ARRAY = 1 2 3         ⍝ RANK ERROR\n",
    "ARRAY = ⊂1 2 3        ⍝ Shapes of subarrays must match\n",
    "A2 ← 3 4⍴(1 2 3)(1 3 4)(5 4 1)\n",
    "A2 = ⊂3 2 1           ⍝ Arrays are still compared element by element"
   ]
  },
  {
   "cell_type": "markdown",
   "metadata": {},
   "source": [
    "Don't worry about learning these rules all at once now. Over time you will get a feel for how rank, depth, shape and nesting works as we explore."
   ]
  },
  {
   "cell_type": "markdown",
   "metadata": {},
   "source": [
    "What else can you do with arrays? Here are some basic structural functions that operate on arrays. "
   ]
  },
  {
   "cell_type": "code",
   "execution_count": 103,
   "metadata": {},
   "outputs": [
    {
     "data": {
      "text/html": [
       "<span style=\"white-space:pre; font-family: monospace\">3\n",
       "</span>"
      ]
     },
     "execution_count": 103,
     "metadata": {},
     "output_type": "execute_result"
    },
    {
     "data": {
      "text/html": [
       "<span style=\"white-space:pre; font-family: monospace\">3 4 1\n",
       "</span>"
      ]
     },
     "execution_count": 103,
     "metadata": {},
     "output_type": "execute_result"
    },
    {
     "data": {
      "text/html": [
       "<span style=\"white-space:pre; font-family: monospace\">4 1 5 6\n",
       "</span>"
      ]
     },
     "execution_count": 103,
     "metadata": {},
     "output_type": "execute_result"
    },
    {
     "data": {
      "text/html": [
       "<span style=\"white-space:pre; font-family: monospace\">6\n",
       "</span>"
      ]
     },
     "execution_count": 103,
     "metadata": {},
     "output_type": "execute_result"
    },
    {
     "data": {
      "text/html": [
       "<span style=\"white-space:pre; font-family: monospace\">3 4 1 5\n",
       "</span>"
      ]
     },
     "execution_count": 103,
     "metadata": {},
     "output_type": "execute_result"
    }
   ],
   "source": [
    "1↑3 4 1 5 6  ⍝ Take the 1st element\n",
    "3↑3 4 1 5 6  ⍝ Take the first 3 elements\n",
    "1↓3 4 1 5 6  ⍝ Drop the 1st element\n",
    "¯1↑3 4 1 5 6 ⍝ Negative takes from the end\n",
    "¯1↓3 4 1 5 6 ⍝ Negative drops from the end"
   ]
  },
  {
   "cell_type": "markdown",
   "metadata": {},
   "source": [
    "Emptiness in high dimensional arrays gets interesting."
   ]
  },
  {
   "cell_type": "code",
   "execution_count": 110,
   "metadata": {},
   "outputs": [
    {
     "data": {
      "text/html": [
       "<span style=\"white-space:pre; font-family: monospace\">0\n",
       "</span>"
      ]
     },
     "execution_count": 110,
     "metadata": {},
     "output_type": "execute_result"
    },
    {
     "data": {
      "text/html": [
       "<span style=\"white-space:pre; font-family: monospace\">3 0 4\n",
       "</span>"
      ]
     },
     "execution_count": 110,
     "metadata": {},
     "output_type": "execute_result"
    },
    {
     "data": {
      "text/html": [
       "<span style=\"white-space:pre; font-family: monospace\">3\n",
       "</span>"
      ]
     },
     "execution_count": 110,
     "metadata": {},
     "output_type": "execute_result"
    },
    {
     "data": {
      "text/html": [
       "<span style=\"white-space:pre; font-family: monospace\">0 0 0 0\n",
       "       \n",
       "0 0 0 0\n",
       "       \n",
       "0 0 0 0\n",
       "</span>"
      ]
     },
     "execution_count": 110,
     "metadata": {},
     "output_type": "execute_result"
    }
   ],
   "source": [
    "a ← 0⍴3       ⍝ A shape 0 array?\n",
    "⍴a            ⍝ Sure why not?\n",
    "a ← 3 0 4⍴3   ⍝ This array has 3 planes, 0 rows and 4 columns\n",
    "⍴a            ⍝ What do you mean it has no rows?\n",
    "⍴⍴a           ⍝ It still exists\n",
    "3 1 4⍴a       ⍝ But reshaping fills with the prototype "
   ]
  },
  {
   "cell_type": "code",
   "execution_count": 114,
   "metadata": {},
   "outputs": [
    {
     "data": {
      "text/html": [
       "<span style=\"white-space:pre; font-family: monospace\">0 0 0\n",
       "</span>"
      ]
     },
     "execution_count": 114,
     "metadata": {},
     "output_type": "execute_result"
    },
    {
     "data": {
      "text/html": [
       "<span style=\"white-space:pre; font-family: monospace\">   \n",
       "</span>"
      ]
     },
     "execution_count": 114,
     "metadata": {},
     "output_type": "execute_result"
    },
    {
     "data": {
      "text/html": [
       "<span style=\"white-space:pre; font-family: monospace\">|   |\n",
       "</span>"
      ]
     },
     "execution_count": 114,
     "metadata": {},
     "output_type": "execute_result"
    }
   ],
   "source": [
    "3 ⍴ ⍬  ⍝ The prototype for a numeric array is 0\n",
    "3 ⍴ '' ⍝ The prototype for a character array is a blank space (space character)\n",
    "'|',(3⍴''),'|'"
   ]
  },
  {
   "cell_type": "markdown",
   "metadata": {},
   "source": [
    "Infix `∊` (membership) takes an array and another array and tells us if elements in the first array appear at all in the second array."
   ]
  },
  {
   "cell_type": "code",
   "execution_count": 116,
   "metadata": {},
   "outputs": [
    {
     "data": {
      "text/html": [
       "<span style=\"white-space:pre; font-family: monospace\">1\n",
       "</span>"
      ]
     },
     "execution_count": 116,
     "metadata": {},
     "output_type": "execute_result"
    },
    {
     "data": {
      "text/html": [
       "<span style=\"white-space:pre; font-family: monospace\">1 1 0\n",
       "</span>"
      ]
     },
     "execution_count": 116,
     "metadata": {},
     "output_type": "execute_result"
    },
    {
     "data": {
      "text/html": [
       "<span style=\"white-space:pre; font-family: monospace\">1 0 1\n",
       "</span>"
      ]
     },
     "execution_count": 116,
     "metadata": {},
     "output_type": "execute_result"
    }
   ],
   "source": [
    "3 ∊ 1 3 5\n",
    "1 3 2 ∊ 1 3\n",
    "1 2 3∊3 3⍴1 3"
   ]
  },
  {
   "cell_type": "markdown",
   "metadata": {},
   "source": [
    "### Texas ranges\n",
    "What if we want a list of all numbers between 1 and 20? Sure, we could just type them all out but obviously that's not a solution for gentlemen who demand excellence from their programming languages. APL has a primitive function, prefix `⍳` (iota) which is an index generator. It depends how the index origin `⎕IO` is set, but basically produces a list of consecutive integers."
   ]
  },
  {
   "cell_type": "code",
   "execution_count": 117,
   "metadata": {},
   "outputs": [
    {
     "data": {
      "text/html": [
       "<span style=\"white-space:pre; font-family: monospace\">1 2 3 4 5 6 7 8 9 10\n",
       "</span>"
      ]
     },
     "execution_count": 117,
     "metadata": {},
     "output_type": "execute_result"
    },
    {
     "data": {
      "text/html": [
       "<span style=\"white-space:pre; font-family: monospace\">0 1 2 3 4 5 6 7 8 9\n",
       "</span>"
      ]
     },
     "execution_count": 117,
     "metadata": {},
     "output_type": "execute_result"
    },
    {
     "data": {
      "text/html": [
       "<span style=\"white-space:pre; font-family: monospace\">¯2 ¯1 0 1 2 3 4 5 6\n",
       "</span>"
      ]
     },
     "execution_count": 117,
     "metadata": {},
     "output_type": "execute_result"
    },
    {
     "data": {
      "text/html": [
       "<span style=\"white-space:pre; font-family: monospace\">¯0.3 ¯0.2 ¯0.1 0 0.1 0.2 0.3\n",
       "</span>"
      ]
     },
     "execution_count": 117,
     "metadata": {},
     "output_type": "execute_result"
    }
   ],
   "source": [
    "⎕IO←1      ⍝ Default in Dyalog APL\n",
    "⍳10\n",
    "⎕IO←0      ⍝ If you're into that\n",
    "⍳10\n",
    "⎕IO←1\n",
    "¯3+⍳9       ⍝ Integers from ¯3 to 6\n",
    "0.1×¯4+⍳7   ⍝ ¯0.3 to 0.3 in steps of 0.1"
   ]
  },
  {
   "cell_type": "markdown",
   "metadata": {},
   "source": [
    "Because APL automatically takes care of internal representation, you don't have to worry too much about using floats vs other types of numbers unless you're worried about super high performance."
   ]
  },
  {
   "cell_type": "code",
   "execution_count": 118,
   "metadata": {},
   "outputs": [
    {
     "data": {
      "text/html": [
       "<span style=\"white-space:pre; font-family: monospace\">ABCDEFGHIJKLMNOPQRSTUVWXYZ\n",
       "</span>"
      ]
     },
     "execution_count": 118,
     "metadata": {},
     "output_type": "execute_result"
    },
    {
     "data": {
      "text/html": [
       "<span style=\"white-space:pre; font-family: monospace\">C:\\Program Files\\Dyalog\\Dyalog APL-64 17.1 Unicode\\ws\\dfns.dws saved Sun Apr 21 20:47:04 2019\n",
       "</span>"
      ]
     },
     "execution_count": 118,
     "metadata": {},
     "output_type": "execute_result"
    },
    {
     "data": {
      "text/html": [
       "<span style=\"white-space:pre; font-family: monospace\">abcdefghijklmnopqrstuvwxyz\n",
       "</span>"
      ]
     },
     "execution_count": 118,
     "metadata": {},
     "output_type": "execute_result"
    }
   ],
   "source": [
    "⎕A ⍝ Quad-A is the list of capital letters A-Z\n",
    ")copy dfns lcase\n",
    "lcase ⎕A ⍝ From the dfns library (different from dfns the function style)"
   ]
  },
  {
   "cell_type": "markdown",
   "metadata": {},
   "source": [
    "You can index into an array with the result of a function. It's pretty nifty."
   ]
  },
  {
   "cell_type": "code",
   "execution_count": 121,
   "metadata": {},
   "outputs": [
    {
     "data": {
      "text/html": [
       "<span style=\"white-space:pre; font-family: monospace\">KLMNOPQRSTUVWXYZ\n",
       "</span>"
      ]
     },
     "execution_count": 121,
     "metadata": {},
     "output_type": "execute_result"
    }
   ],
   "source": [
    "⎕A[10+⍳16]"
   ]
  },
  {
   "cell_type": "code",
   "execution_count": 122,
   "metadata": {},
   "outputs": [
    {
     "data": {
      "text/html": [
       "<span style=\"white-space:pre; font-family: monospace\">1 3 5 7 9 11 13 15 17 19\n",
       "</span>"
      ]
     },
     "execution_count": 122,
     "metadata": {},
     "output_type": "execute_result"
    }
   ],
   "source": [
    "¯1+2×⍳10 ⍝ The first 10 odd numbers"
   ]
  },
  {
   "cell_type": "markdown",
   "metadata": {},
   "source": [
    "There are always many ways to skin a given cat in APL. It may take a while to learn some of the linguistically neatest ones. Sometimes the computationally fastest solutions aren't the nicest to look at. It is all a matter of practise and purpose. "
   ]
  },
  {
   "cell_type": "markdown",
   "metadata": {},
   "source": [
    "Having said that, let's look at two ways to get the numbers from 20 down to 1."
   ]
  },
  {
   "cell_type": "code",
   "execution_count": 123,
   "metadata": {},
   "outputs": [
    {
     "data": {
      "text/html": [
       "<span style=\"white-space:pre; font-family: monospace\">20 19 18 17 16 15 14 13 12 11 10 9 8 7 6 5 4 3 2 1\n",
       "</span>"
      ]
     },
     "execution_count": 123,
     "metadata": {},
     "output_type": "execute_result"
    },
    {
     "data": {
      "text/html": [
       "<span style=\"white-space:pre; font-family: monospace\">3 2 1\n",
       "6 5 4\n",
       "9 8 7\n",
       "</span>"
      ]
     },
     "execution_count": 123,
     "metadata": {},
     "output_type": "execute_result"
    },
    {
     "data": {
      "text/html": [
       "<span style=\"white-space:pre; font-family: monospace\">20 19 18 17 16 15 14 13 12 11 10 9 8 7 6 5 4 3 2 1\n",
       "</span>"
      ]
     },
     "execution_count": 123,
     "metadata": {},
     "output_type": "execute_result"
    }
   ],
   "source": [
    "⌽⍳20 ⍝ Prefix ⌽ will reverse an array along its last axis by default\n",
    "⌽[2] 3 3⍴⍳9 ⍝ You can specify an axis with square brackets\n",
    "21-⍳20 ⍝ You could subtract the numbers from 21"
   ]
  },
  {
   "cell_type": "code",
   "execution_count": 127,
   "metadata": {},
   "outputs": [
    {
     "data": {
      "text/html": [
       "<span style=\"white-space:pre; font-family: monospace\">13 26 39 52 65 78 91 104 117 130 143 156 169 182 195 208 221 234 247 260 273 286 299 312\n",
       "</span>"
      ]
     },
     "execution_count": 127,
     "metadata": {},
     "output_type": "execute_result"
    }
   ],
   "source": [
    "13×⍳24 ⍝ The first 24 multiples of 13"
   ]
  },
  {
   "cell_type": "markdown",
   "metadata": {},
   "source": [
    "Infix `/` is actually a function called **replicate**. "
   ]
  },
  {
   "cell_type": "code",
   "execution_count": 130,
   "metadata": {},
   "outputs": [
    {
     "data": {
      "text/html": [
       "<span style=\"white-space:pre; font-family: monospace\">10 10 10\n",
       "</span>"
      ]
     },
     "execution_count": 130,
     "metadata": {},
     "output_type": "execute_result"
    },
    {
     "data": {
      "text/html": [
       "<span style=\"white-space:pre; font-family: monospace\">1 1 1 2 2 2\n",
       "</span>"
      ]
     },
     "execution_count": 130,
     "metadata": {},
     "output_type": "execute_result"
    },
    {
     "data": {
      "text/html": [
       "<span style=\"white-space:pre; font-family: monospace\">APL\n",
       "</span>"
      ]
     },
     "execution_count": 130,
     "metadata": {},
     "output_type": "execute_result"
    }
   ],
   "source": [
    "3/10  ⍝ 3 replicate 10\n",
    "3/1 2 ⍝ Replicate a list\n",
    "1 1 0 1 0/'APPLE' ⍝ Can be used for boolean masking"
   ]
  },
  {
   "cell_type": "markdown",
   "metadata": {},
   "source": [
    "Let's say we want the doubles of numbers from 1 to 10 whose doubles are greater than or equal to twelve."
   ]
  },
  {
   "cell_type": "code",
   "execution_count": 131,
   "metadata": {},
   "outputs": [
    {
     "data": {
      "text/html": [
       "<span style=\"white-space:pre; font-family: monospace\">12 14 16 18 20\n",
       "</span>"
      ]
     },
     "execution_count": 131,
     "metadata": {},
     "output_type": "execute_result"
    }
   ],
   "source": [
    "{(12≤⍵×2)/⍵×2}⍳10"
   ]
  },
  {
   "cell_type": "markdown",
   "metadata": {},
   "source": [
    "A little bit to unpack there:"
   ]
  },
  {
   "cell_type": "code",
   "execution_count": 135,
   "metadata": {},
   "outputs": [
    {
     "data": {
      "text/html": [
       "<span style=\"white-space:pre; font-family: monospace\">0 0 0 0 0 1 1 1 1 1\n",
       "</span>"
      ]
     },
     "execution_count": 135,
     "metadata": {},
     "output_type": "execute_result"
    },
    {
     "name": "stderr",
     "output_type": "stream",
     "text": [
      "LENGTH ERROR: Mismatched left and right argument shapes\n",
      "      {12≤⍵×2/⍵}⍳10 ⍝ Don't forget the precedence rule!\n",
      "           ∧\n"
     ]
    },
    {
     "data": {
      "text/html": [
       "<span style=\"white-space:pre; font-family: monospace\">6 7 8 9 10\n",
       "</span>"
      ]
     },
     "execution_count": 135,
     "metadata": {},
     "output_type": "execute_result"
    },
    {
     "data": {
      "text/html": [
       "<span style=\"white-space:pre; font-family: monospace\">12 14 16 18 20\n",
       "</span>"
      ]
     },
     "execution_count": 135,
     "metadata": {},
     "output_type": "execute_result"
    }
   ],
   "source": [
    "{12≤⍵×2}⍳10 ⍝ Our boolean mask\n",
    "{12≤⍵×2/⍵}⍳10 ⍝ Don't forget the precedence rule!\n",
    "{(12≤⍵×2)/⍵}⍳10 ⍝ Oh yeah, we wanted doubles\n",
    "{(12≤⍵×2)/2×⍵}⍳10 ⍝ Simples"
   ]
  },
  {
   "cell_type": "markdown",
   "metadata": {},
   "source": [
    "What about the numbers from 50 to 100 whose remainder when divided by the number 7 is 3? Easy."
   ]
  },
  {
   "cell_type": "code",
   "execution_count": 136,
   "metadata": {},
   "outputs": [
    {
     "data": {
      "text/html": [
       "<span style=\"white-space:pre; font-family: monospace\">52 59 66 73 80 87 94\n",
       "</span>"
      ]
     },
     "execution_count": 136,
     "metadata": {},
     "output_type": "execute_result"
    }
   ],
   "source": [
    "{(3=7|⍵)/⍵}49+⍳51 ⍝ Easy."
   ]
  },
  {
   "cell_type": "markdown",
   "metadata": {},
   "source": [
    "In Haskell these are list comprehensions using predicates. I don't know about all that fancy lingo but **filtering** seems like a sensible term."
   ]
  },
  {
   "cell_type": "markdown",
   "metadata": {},
   "source": [
    "Let's do a function that returns `'BANG!'` for each odd number greater than 10 and returns `'BOOM!'` for each odd number less than 10."
   ]
  },
  {
   "cell_type": "code",
   "execution_count": 137,
   "metadata": {},
   "outputs": [
    {
     "data": {
      "text/html": [
       "<span style=\"white-space:pre; font-family: monospace\">┌─────┬─────┬─────┬─────┐\n",
       "│BOOM!│BOOM!│BANG!│BANG!│\n",
       "└─────┴─────┴─────┴─────┘\n",
       "</span>"
      ]
     },
     "execution_count": 137,
     "metadata": {},
     "output_type": "execute_result"
    }
   ],
   "source": [
    "boomBangs ← {('BANG!' 'BOOM!')[((2|⍵)×1+⍵<10)~0]}\n",
    "boomBangs 6+⍳7"
   ]
  },
  {
   "cell_type": "markdown",
   "metadata": {},
   "source": [
    "Let's go ahead an unpack that one too. Hopefully no surprises here (or maybe one surprise)."
   ]
  },
  {
   "cell_type": "code",
   "execution_count": 1,
   "metadata": {},
   "outputs": [
    {
     "data": {
      "text/html": [
       "<span style=\"white-space:pre; font-family: monospace\">1 1 1 0 0 0 0\n",
       "</span>"
      ]
     },
     "execution_count": 1,
     "metadata": {},
     "output_type": "execute_result"
    },
    {
     "data": {
      "text/html": [
       "<span style=\"white-space:pre; font-family: monospace\">1 0 1 0 0 0 0\n",
       "</span>"
      ]
     },
     "execution_count": 1,
     "metadata": {},
     "output_type": "execute_result"
    },
    {
     "data": {
      "text/html": [
       "<span style=\"white-space:pre; font-family: monospace\">2 0 2 0 1 0 1\n",
       "</span>"
      ]
     },
     "execution_count": 1,
     "metadata": {},
     "output_type": "execute_result"
    },
    {
     "data": {
      "text/html": [
       "<span style=\"white-space:pre; font-family: monospace\">2 2 1 1\n",
       "</span>"
      ]
     },
     "execution_count": 1,
     "metadata": {},
     "output_type": "execute_result"
    },
    {
     "data": {
      "text/html": [
       "<span style=\"white-space:pre; font-family: monospace\">┌─────┬─────┬─────┬─────┐\n",
       "│BOOM!│BOOM!│BANG!│BANG!│\n",
       "└─────┴─────┴─────┴─────┘\n",
       "</span>"
      ]
     },
     "execution_count": 1,
     "metadata": {},
     "output_type": "execute_result"
    }
   ],
   "source": [
    "{⍵<10}6+⍳7                                 ⍝ Which in ⍵ are less than 10?\n",
    "{(2|⍵)∧⍵<10}6+⍳7                          ⍝ Which are also odd numbers?\n",
    "{(2|⍵)∧1+⍵<10}6+⍳7                        ⍝ Default arrays index from 1 (remove this if ⎕IO←0)\n",
    "{((2|⍵)∧1+⍵<10)~0}6+⍳7                    ⍝ 0 not a valid index (¯1 if ⎕IO←0)\n",
    "{('BANG!' 'BOOM!')[((2|⍵)∧1+⍵<10)~0]}6+⍳7 ⍝ Use the result to index into an array"
   ]
  },
  {
   "cell_type": "markdown",
   "metadata": {},
   "source": [
    "### Examples from LYaHfGG\n",
    "Here the tutorial shows us tuples and zip. In APL, data are arrays. They can contain atomic numeric or character data (single characters or numbers), a mix of numeric and character data, or they can contain more arrays! We can create many data structures. \n",
    "\n",
    "These examples involve in-built Haskell functions but here achieve similar results in APL. These examples don't flow quite as nicely as they do for APL but I leave them in as they are still good problems to investigate in APL. [**Zip**](#zip) should be well understood from things introduced in the course so far. [**rightTriangles**](#rightTriangles) might require revisiting after explaining a couple more symbols."
   ]
  },
  {
   "cell_type": "markdown",
   "metadata": {},
   "source": [
    "#### Zip\n",
    "Zip takes two lists and creates a list of tuples in Haskell. Zip isn't a function in APL like it is in Haskell. However, the basic effect can be created in just as many keystrokes."
   ]
  },
  {
   "cell_type": "markdown",
   "metadata": {},
   "source": [
    "Try to create the zip function yourself before reading ahead to see if you get something similar to me. The behaviour should be as follows:\n",
    "```APL\n",
    "      ]Box on\n",
    "Was ON\n",
    "      (⍳3) zip 3↑⎕A\n",
    "┌───┬───┬───┐\n",
    "│1 A│2 B│3 C│\n",
    "└───┴───┴───┘      \n",
    "```"
   ]
  },
  {
   "cell_type": "code",
   "execution_count": 4,
   "metadata": {},
   "outputs": [
    {
     "data": {
      "text/html": [
       "<span style=\"white-space:pre; font-family: monospace\">┌───┬───┬───┬───┬───┐\n",
       "│1 5│2 5│3 5│4 5│5 5│\n",
       "└───┴───┴───┴───┴───┘\n",
       "</span>"
      ]
     },
     "execution_count": 4,
     "metadata": {},
     "output_type": "execute_result"
    }
   ],
   "source": [
    "(⍳5),¨5⍴5"
   ]
  },
  {
   "cell_type": "markdown",
   "metadata": {},
   "source": [
    "Oh, that's actually fewer. We take the vector `1 2 3 4 5` and _catenate each_ `,¨` of the vector `5 5 5 5 5`. The result is a 5 element vector containing 2 element numeric vectors, which somewhat resembles a list of tuples.\n",
    "\n",
    "Zip in Haskell also accepts lists of different lengths, and stops zipping when it gets to the end of the shortest list."
   ]
  },
  {
   "cell_type": "code",
   "execution_count": 5,
   "metadata": {},
   "outputs": [
    {
     "name": "stderr",
     "output_type": "stream",
     "text": [
      "LENGTH ERROR\n",
      "      (⍳3),¨⍳10\n",
      "          ∧\n"
     ]
    }
   ],
   "source": [
    "(⍳3),¨⍳10"
   ]
  },
  {
   "cell_type": "markdown",
   "metadata": {},
   "source": [
    "I'm sure we can get that functionality without too much hassle..."
   ]
  },
  {
   "cell_type": "code",
   "execution_count": 11,
   "metadata": {},
   "outputs": [
    {
     "data": {
      "text/html": [
       "<span style=\"white-space:pre; font-family: monospace\">5 26\n",
       "</span>"
      ]
     },
     "execution_count": 11,
     "metadata": {},
     "output_type": "execute_result"
    },
    {
     "data": {
      "text/html": [
       "<span style=\"white-space:pre; font-family: monospace\">5\n",
       "</span>"
      ]
     },
     "execution_count": 11,
     "metadata": {},
     "output_type": "execute_result"
    },
    {
     "data": {
      "text/html": [
       "<span style=\"white-space:pre; font-family: monospace\">1 2 3 4 5 0 0 0 0 0 0 0 0 0 0 0 0 0 0 0 0 0 0 0 0 0\n",
       "A B C D E F G H I J K L M N O P Q R S T U V W X Y Z\n",
       "</span>"
      ]
     },
     "execution_count": 11,
     "metadata": {},
     "output_type": "execute_result"
    },
    {
     "data": {
      "text/html": [
       "<span style=\"white-space:pre; font-family: monospace\">1 A\n",
       "2 B\n",
       "3 C\n",
       "4 D\n",
       "5 E\n",
       "0 F\n",
       "</span>"
      ]
     },
     "execution_count": 11,
     "metadata": {},
     "output_type": "execute_result"
    },
    {
     "data": {
      "text/html": [
       "<span style=\"white-space:pre; font-family: monospace\">1 A\n",
       "2 B\n",
       "3 C\n",
       "4 D\n",
       "5 E\n",
       "</span>"
      ]
     },
     "execution_count": 11,
     "metadata": {},
     "output_type": "execute_result"
    },
    {
     "data": {
      "text/html": [
       "<span style=\"white-space:pre; font-family: monospace\">┌───┬───┬───┬───┬───┐\n",
       "│1 A│2 B│3 C│4 D│5 E│\n",
       "└───┴───┴───┴───┴───┘\n",
       "</span>"
      ]
     },
     "execution_count": 11,
     "metadata": {},
     "output_type": "execute_result"
    }
   ],
   "source": [
    "(⍳5){≢¨⍺⍵}⎕A             ⍝ How long are our lists?\n",
    "(⍳5){⌊/≢¨⍺⍵}⎕A           ⍝ What's the length of the shortest list?\n",
    "(⍳5){↑⍺⍵}⎕A              ⍝ A matrix where each row a list (shorter list is padded with prototypes). Prefix ↑ is 'mix'.\n",
    "6↑(⍳5){⍉↑⍺⍵}⎕A          ⍝ We want to take the first columns - easier if we transpose first (show first 6 rows only here)\n",
    "(⍳5){(⌊/≢¨⍺⍵)↑⍉↑⍺⍵}⎕A  ⍝ Now just take the rows up to the length of the shorter list\n",
    "(⍳5){↓(⌊/≢¨⍺⍵)↑⍉↑⍺⍵}⎕A ⍝ Prefix ↓ is 'split' and turns our matrix into a nested vector of vectors made from the rows"
   ]
  },
  {
   "cell_type": "code",
   "execution_count": 16,
   "metadata": {},
   "outputs": [
    {
     "data": {
      "text/html": [
       "<span style=\"white-space:pre; font-family: monospace\">┌───┬───┬───┬───┬───┐\n",
       "│1 A│2 B│3 C│4 D│5 E│\n",
       "└───┴───┴───┴───┴───┘\n",
       "</span>"
      ]
     },
     "execution_count": 16,
     "metadata": {},
     "output_type": "execute_result"
    }
   ],
   "source": [
    "(⍳5){↓[1](⌊/≢¨⍺⍵)↑[2]↑⍺⍵}⎕A ⍝ Similar effect with ↑[2] and ↓[1], I think the ⍉ version is nicer, personally"
   ]
  },
  {
   "cell_type": "markdown",
   "metadata": {},
   "source": [
    "APL is not lazy so we can't do infinite lists like Haskell... oh well..."
   ]
  },
  {
   "cell_type": "markdown",
   "metadata": {},
   "source": [
    "#### rightTriangles\n",
    "Beginning with an array of possible solutions and filtering down based on criteria is also a fairly common way of solving problems in array based languages.\n",
    "\n",
    "Which right-angled triangle, with integer-length sides all smaller than or equal to 10, has a perimeter of 24?"
   ]
  },
  {
   "cell_type": "code",
   "execution_count": 19,
   "metadata": {},
   "outputs": [
    {
     "data": {
      "text/html": [
       "<span style=\"white-space:pre; font-family: monospace\">APL\n",
       "</span>"
      ]
     },
     "execution_count": 19,
     "metadata": {},
     "output_type": "execute_result"
    },
    {
     "data": {
      "text/html": [
       "<span style=\"white-space:pre; font-family: monospace\">┌─────┬──────┐\n",
       "│3 4 5│6 8 10│\n",
       "└─────┴──────┘\n",
       "</span>"
      ]
     },
     "execution_count": 19,
     "metadata": {},
     "output_type": "execute_result"
    },
    {
     "data": {
      "text/html": [
       "<span style=\"white-space:pre; font-family: monospace\">6 8 10\n",
       "</span>"
      ]
     },
     "execution_count": 19,
     "metadata": {},
     "output_type": "execute_result"
    }
   ],
   "source": [
    "⍝ Haskell\n",
    "'APL'\n",
    "⍝ let triangles = [ (a,b,c) | c <- [1..10], b <- [1..10], a <- [1..10] ]   \n",
    "triangles ← ⍳10 10 10\n",
    "⍝ let rightTriangles = [ (a,b,c) | c <- [1..10], b <- [1..c], a <- [1..b], a^2 + b^2 == c^2]  \n",
    "{⍵[⍸(2*⍨3⊃¨⍵)=(+/¨2↑¨⍵*2)]}∪,{⍵[⍋⍵]}¨⍳10 10 10\n",
    "⍝ let rightTriangles' = [ (a,b,c) | c <- [1..10], b <- [1..c], a <- [1..b], a^2 + b^2 == c^2, a+b+c == 24]  \n",
    "{↑⍵[⍸(24=+/¨⍵)∧(2*⍨3⊃¨⍵)=(+/¨2↑¨⍵*2)]}∪,{⍵[⍋⍵]}¨⍳10 10 10 ⍝ Kind of ugly, might revise later idk..."
   ]
  },
  {
   "cell_type": "markdown",
   "metadata": {},
   "source": [
    "There's almost definitely neater ways to solve this particular problem in APL. For now, we will proceed through the tutorial. It is likely that these APL tutorials will start with just me translating the Haskell examples into APL, and returning later to arrange the materials into a structure more suited to learning APL. "
   ]
  }
 ],
 "metadata": {
  "kernelspec": {
   "display_name": "Dyalog APL",
   "language": "apl",
   "name": "dyalog-kernel"
  },
  "language_info": {
   "file_extension": ".apl",
   "mimetype": "text/apl",
   "name": "APL"
  }
 },
 "nbformat": 4,
 "nbformat_minor": 2
}
